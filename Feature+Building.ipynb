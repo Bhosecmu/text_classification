{
 "cells": [
  {
   "cell_type": "markdown",
   "metadata": {},
   "source": [
    "## Feature/X-Label Building by extracting words from Text File "
   ]
  },
  {
   "cell_type": "code",
   "execution_count": 3,
   "metadata": {
    "collapsed": false,
    "deletable": true,
    "editable": true
   },
   "outputs": [],
   "source": [
    "# importing stuff\n",
    "import pandas as pd\n",
    "import numpy as np\n",
    "import matplotlib as plt\n",
    "import seaborn as sns\n",
    "plt.rcParams['figure.figsize']=(10,6)\n",
    "import glob\n",
    "from string import punctuation\n",
    "from collections import defaultdict\n",
    "import nltk\n",
    "from nltk.corpus import stopwords\n",
    "import operator\n",
    "from scipy.sparse import csr_matrix"
   ]
  },
  {
   "cell_type": "code",
   "execution_count": 4,
   "metadata": {
    "collapsed": true,
    "deletable": true,
    "editable": true
   },
   "outputs": [],
   "source": [
    "#Function to Check is it number\n",
    "def is_number(s):\n",
    "    try:\n",
    "        float(s)\n",
    "        return True\n",
    "    except ValueError:\n",
    "        return False"
   ]
  },
  {
   "cell_type": "code",
   "execution_count": 549,
   "metadata": {
    "collapsed": true,
    "deletable": true,
    "editable": true
   },
   "outputs": [],
   "source": [
    "# function to read the file and return a list of words\n",
    "def parse_text_tolist(path):\n",
    "    try:\n",
    "        #read file\n",
    "        soup=open(path,'r')\n",
    "        #strip punctuations\n",
    "        raw_text=strip_pnctn(soup)\n",
    "        #Split words\n",
    "        word_list = raw_text.split()\n",
    "        words_list=[]\n",
    "        for i in range(len(word_list)):\n",
    "            chars = ''.join(s for s in word_list[i] if s.isalnum()) #splitting into chars for aplhanumeric\n",
    "            if is_number(chars)==False: #removing numbers\n",
    "                words_list.append(chars)\n",
    "    except ValueError:\n",
    "        print(\"value Error\")\n",
    "    #Convert text to lower case inorder to avoid reading same word again and again \n",
    "    words_list= [x.lower() for x in words_list]\n",
    "    return words_list"
   ]
  },
  {
   "cell_type": "code",
   "execution_count": 778,
   "metadata": {
    "collapsed": true,
    "deletable": true,
    "editable": true
   },
   "outputs": [],
   "source": [
    "# function to get sorted freq from each class\n",
    "def getSortedFreq(classPath):\n",
    "    #Class Path is the folder in OS where all the files to be read is located\n",
    "    path_list=glob.glob(classPath)    \n",
    "    path_list_100= path_list[600:700] #take the 100 file names in list to read the contents iteratively \n",
    "    words_lists=[]\n",
    "    freqs_lists=[]\n",
    "    for i in range(len(path_list_100)):\n",
    "        #freq_list=[]\n",
    "        #Call the function to convert text file to word frequency list\n",
    "        word_list= parse_text_tolist(path_list_100[i])\n",
    "        words_lists.append(word_list)\n",
    "        for j in range(len(words_lists)):\n",
    "            freq = freqs(words_lists[j])\n",
    "            freqs_lists.append(freq)\n",
    "\n",
    "    # merging all values for a key and forming a new dict of key value pairs\n",
    "    #from collections import defaultdict\n",
    "    freqs_final = defaultdict(list)\n",
    "    for i in range(len(freqs_lists)):\n",
    "        for k,v in freqs_lists[i].items():\n",
    "            freqs_final[k].append(v)\n",
    "\n",
    "\n",
    "    # In[ ]:\n",
    "\n",
    "    #summing all values per key in the freqs_final\n",
    "    freqs_final = {k: sum_list(v) for k, v in freqs_final.items()}\n",
    "    remove_keys(common_keys,freqs_final)\n",
    "    sorted_freqs= sorted(freqs_final.items(),key=operator.itemgetter(1),reverse= True)\n",
    "    return sorted_freqs, freqs_final"
   ]
  },
  {
   "cell_type": "code",
   "execution_count": 779,
   "metadata": {
    "collapsed": true,
    "deletable": true,
    "editable": true
   },
   "outputs": [],
   "source": [
    "# function to parse the text ignoring the chars\n",
    "def strip_pnctn(txt):\n",
    "    return ','.join(c for c in txt if c not in ignoreList)"
   ]
  },
  {
   "cell_type": "code",
   "execution_count": 780,
   "metadata": {
    "collapsed": true,
    "deletable": true,
    "editable": true
   },
   "outputs": [],
   "source": [
    "def freqs(wl):\n",
    "    wordfreq = []\n",
    "    wordname=[]\n",
    "    #Converted list to avoid duplicates to iterate and count words\n",
    "    for w in set(wl):\n",
    "        wordfreq.append(wl.count(w))\n",
    "        wordname.append(w)\n",
    "    #word frequency\n",
    "    freq=dict(zip(wordname,wordfreq))\n",
    "    return freq"
   ]
  },
  {
   "cell_type": "code",
   "execution_count": 781,
   "metadata": {
    "collapsed": true,
    "deletable": true,
    "editable": true
   },
   "outputs": [],
   "source": [
    "def sum_list(values):\n",
    "    v= sum(values)\n",
    "    return v"
   ]
  },
  {
   "cell_type": "code",
   "execution_count": 782,
   "metadata": {
    "collapsed": true,
    "deletable": true,
    "editable": true
   },
   "outputs": [],
   "source": [
    "#function to remove the common keys\n",
    "def remove_keys(common_keys, dicti):\n",
    "    for key in common_keys:\n",
    "        if key in dicti:\n",
    "            del dicti[key]"
   ]
  },
  {
   "cell_type": "code",
   "execution_count": 783,
   "metadata": {
    "collapsed": true,
    "deletable": true,
    "editable": true
   },
   "outputs": [],
   "source": [
    "#Function to get stop words\n",
    "def getStopWords():\n",
    "    with open('terrier-stop.txt', 'r') as f:\n",
    "        stopwords1 = [x.strip('\\n') for x in f.readlines()]\n",
    "\n",
    "    with open('minimal-stop.txt', 'r') as f:\n",
    "        stopwords2 = [x.strip('\\n') for x in f.readlines()]\n",
    "\n",
    "    with open('stoplist.txt', 'r') as f:\n",
    "        stopwords3 = [x.strip('\\n') for x in f.readlines()]\n",
    "\n",
    "    stopwords4 = stopwords.words('english')\n",
    "\n",
    "    stpwrd_full = stopwords1 +stopwords2 +stopwords3+stopwords4 \n",
    "\n",
    "    mylist_stopwords = [\"newsgroups\",\"messageid\",'gmt','path','subject','sender','lines','organization','articleid','apr','date','writes','pp','cantaloupesrvcscmuedu','xref','nntppostinghost','article','references']\n",
    "#    common_keys= list(set(keys)&set(stpwrd_full)) + mylist_stopwords #mega keywords list\n",
    "    common_keys= list(set(stpwrd_full)) + mylist_stopwords #mega keywords list \n",
    "    return common_keys"
   ]
  },
  {
   "cell_type": "code",
   "execution_count": 784,
   "metadata": {
    "collapsed": true,
    "deletable": true,
    "editable": true
   },
   "outputs": [],
   "source": [
    "def getDictOfWords(path):\n",
    "    words_list = parse_text_tolist(path)\n",
    "    freq = freqs(words_list)\n",
    "\n",
    "    # merging all values for a key and forming a new dict of key value pairs\n",
    "    from collections import defaultdict\n",
    "    freqs_final = defaultdict(list)\n",
    "    for k,v in freq.items():\n",
    "        freqs_final[k].append(v)\n",
    "\n",
    "\n",
    "    freqs_final = {k: sum_list(v) for k, v in freqs_final.items()}\n",
    "    return freqs_final"
   ]
  },
  {
   "cell_type": "code",
   "execution_count": 785,
   "metadata": {
    "collapsed": true,
    "deletable": true,
    "editable": true
   },
   "outputs": [],
   "source": [
    "def getDatapoint(dict_of_features, dict_of_newfile):\n",
    "    d_feature_list = dict_of_features\n",
    "    d_inputfile = dict_of_newfile\n",
    "\n",
    "    row_loc = []\n",
    "    row_val = []\n",
    "    it = 0\n",
    "    for key, value in d_feature_list.items():\n",
    "        if key in d_inputfile:\n",
    "            row_loc.append(it)\n",
    "            d_feature_list[key] = d_inputfile[key]\n",
    "            row_val.append(d_feature_list[key])\n",
    "        else:\n",
    "            d_feature_list[key] = 0\n",
    "        it = it + 1\n",
    "    return row_loc, row_val"
   ]
  },
  {
   "cell_type": "code",
   "execution_count": 786,
   "metadata": {
    "collapsed": false,
    "deletable": true,
    "editable": true
   },
   "outputs": [],
   "source": [
    "###global part of the code\n",
    "common_keys = getStopWords()\n",
    "# creating a list of chars to be ignored\n",
    "num=['0','1','2','3','4','5','6','7','8','9','--']\n",
    "ignoreList= punctuation + \"1 2 3 4 5 6 7 8 9 0\""
   ]
  },
  {
   "cell_type": "code",
   "execution_count": 787,
   "metadata": {
    "collapsed": false,
    "deletable": true,
    "editable": true
   },
   "outputs": [],
   "source": [
    "# 1.-------------------------------------------------------------------------------------------------------------\n",
    "# # Let us read our next set of files and repeat the procedure (ATHEISM)\n",
    "#-------------------------------------------------------------------------------------------------------------\n",
    "\n",
    "# Lets read the file directories and store the path\n",
    "path_list_atheism = \"E:\\\\Sem 2\\\\20_newsgroups\\\\alt.atheism\\\\*\"\n",
    "sorted_freqs, freqs_final = getSortedFreq(path_list_atheism)"
   ]
  },
  {
   "cell_type": "code",
   "execution_count": 789,
   "metadata": {
    "collapsed": true,
    "deletable": true,
    "editable": true
   },
   "outputs": [],
   "source": [
    "#2. -------------------------------------------------------------------------------------------------------------\n",
    "# # Let us read our next set of files and repeat the procedure (RELIGION MISC)\n",
    "#-------------------------------------------------------------------------------------------------------------\n",
    "path_list_RelMisc =\"E:\\\\Sem 2\\\\20_newsgroups\\\\talk.religion.misc\\\\*\"\n",
    "sorted_freqs_RelMisc, dummy = getSortedFreq(path_list_RelMisc)"
   ]
  },
  {
   "cell_type": "code",
   "execution_count": 790,
   "metadata": {
    "collapsed": true,
    "deletable": true,
    "editable": true
   },
   "outputs": [],
   "source": [
    "\n",
    "#3. -------------------------------------------------------------------------------------------------------------\n",
    "# # Let us read our next set of files and repeat the procedure (REL CHRISTIAN)\n",
    "#-------------------------------------------------------------------------------------------------------------\n",
    "path_list_RelChrist =\"E:\\\\Sem 2\\\\20_newsgroups\\\\soc.religion.christian\\\\*\"\n",
    "sorted_freqs_RelChrist, dummy = getSortedFreq(path_list_RelChrist)"
   ]
  },
  {
   "cell_type": "code",
   "execution_count": 791,
   "metadata": {
    "collapsed": true,
    "deletable": true,
    "editable": true
   },
   "outputs": [],
   "source": [
    "#4.-------------------------------------------------------------------------------------------------------------\n",
    "# # Let us read our next set of files and repeat the procedure (POLITICS GUNS)\n",
    "#-------------------------------------------------------------------------------------------------------------\n",
    "\n",
    "path_list_Guns =\"E:\\\\Sem 2\\\\20_newsgroups\\\\talk.politics.guns\\\\*\"\n",
    "sorted_freqs_guns, dummy = getSortedFreq(path_list_Guns)"
   ]
  },
  {
   "cell_type": "code",
   "execution_count": 792,
   "metadata": {
    "collapsed": true,
    "deletable": true,
    "editable": true
   },
   "outputs": [],
   "source": [
    "\n",
    "#5. -------------------------------------------------------------------------------------------------------------\n",
    "# # Let us read our next set of files and repeat the procedure (POLITICS MIDEAST)\n",
    "#-------------------------------------------------------------------------------------------------------------\n",
    "path_list_MidEast =\"E:\\\\Sem 2\\\\20_newsgroups\\\\talk.politics.mideast\\\\*\"\n",
    "sorted_freqs_MidEast, dummy = getSortedFreq(path_list_MidEast)"
   ]
  },
  {
   "cell_type": "code",
   "execution_count": 793,
   "metadata": {
    "collapsed": true,
    "deletable": true,
    "editable": true
   },
   "outputs": [],
   "source": [
    "#6.-------------------------------------------------------------------------------------------------------------\n",
    "# # Let us read our next set of files and repeat the procedure (POLITICS MISC)\n",
    "#-------------------------------------------------------------------------------------------------------------\n",
    "path_list_PolMisc =\"E:\\\\Sem 2\\\\20_newsgroups\\\\talk.politics.misc\\\\*\"\n",
    "sorted_freqs_PolMisc, dummy = getSortedFreq(path_list_PolMisc)"
   ]
  },
  {
   "cell_type": "code",
   "execution_count": 794,
   "metadata": {
    "collapsed": true,
    "deletable": true,
    "editable": true
   },
   "outputs": [],
   "source": [
    "\n",
    "#7.-------------------------------------------------------------------------------------------------------------\n",
    "# # Let us read our next set of files and repeat the procedure (SCI SPACE)\n",
    "#-------------------------------------------------------------------------------------------------------------\n",
    "path_list_SciSpace =\"E:\\\\Sem 2\\\\20_newsgroups\\\\sci.space\\\\*\"\n",
    "sorted_freqs_SciSpace, dummy = getSortedFreq(path_list_SciSpace)"
   ]
  },
  {
   "cell_type": "code",
   "execution_count": 795,
   "metadata": {
    "collapsed": true,
    "deletable": true,
    "editable": true
   },
   "outputs": [],
   "source": [
    "\n",
    "\n",
    "#8. -------------------------------------------------------------------------------------------------------------\n",
    "# # Let us read our next set of files and repeat the procedure (SCI MED)\n",
    "#-------------------------------------------------------------------------------------------------------------\n",
    "path_list_SciMed =\"E:\\\\Sem 2\\\\20_newsgroups\\\\sci.med\\\\*\"\n",
    "sorted_freqs_SciMed, dummy = getSortedFreq(path_list_SciMed)"
   ]
  },
  {
   "cell_type": "code",
   "execution_count": 796,
   "metadata": {
    "collapsed": true,
    "deletable": true,
    "editable": true
   },
   "outputs": [],
   "source": [
    "#9. -------------------------------------------------------------------------------------------------------------\n",
    "# # Let us read our next set of files and repeat the procedure (SCI ELECTRONICS)\n",
    "#-------------------------------------------------------------------------------------------------------------\n",
    "path_list_SciElec =\"E:\\\\Sem 2\\\\20_newsgroups\\\\sci.electronics\\\\*\"\n",
    "sorted_freqs_SciElec, dummy = getSortedFreq(path_list_SciElec)"
   ]
  },
  {
   "cell_type": "code",
   "execution_count": 797,
   "metadata": {
    "collapsed": true,
    "deletable": true,
    "editable": true
   },
   "outputs": [],
   "source": [
    "#10. -------------------------------------------------------------------------------------------------------------\n",
    "# # Let us read our next set of files and repeat the procedure (SCI CRYPT)\n",
    "#-------------------------------------------------------------------------------------------------------------\n",
    "path_list_SciCrypt =\"E:\\\\Sem 2\\\\20_newsgroups\\\\sci.crypt\\\\*\"\n",
    "sorted_freqs_SciCrypt, dummy = getSortedFreq(path_list_SciCrypt)"
   ]
  },
  {
   "cell_type": "code",
   "execution_count": 798,
   "metadata": {
    "collapsed": true,
    "deletable": true,
    "editable": true
   },
   "outputs": [],
   "source": [
    "#11. -------------------------------------------------------------------------------------------------------------\n",
    "# # Let us read our next set of files and repeat the procedure (BASEBALL)\n",
    "#-------------------------------------------------------------------------------------------------------------\n",
    "path_list_Baseball =\"E:\\\\Sem 2\\\\20_newsgroups\\\\rec.sport.baseball\\\\*\"\n",
    "sorted_freqs_Baseball, dummy = getSortedFreq(path_list_Baseball)"
   ]
  },
  {
   "cell_type": "code",
   "execution_count": 799,
   "metadata": {
    "collapsed": true,
    "deletable": true,
    "editable": true
   },
   "outputs": [],
   "source": [
    "#12. -------------------------------------------------------------------------------------------------------------\n",
    "# # Let us read our next set of files and repeat the procedure (MOTORCYCLE)\n",
    "#-------------------------------------------------------------------------------------------------------------\n",
    "path_list_Motor =\"E:\\\\Sem 2\\\\20_newsgroups\\\\rec.motorcycles\\\\*\"\n",
    "sorted_freqs_Motor, dummy = getSortedFreq(path_list_Motor)"
   ]
  },
  {
   "cell_type": "code",
   "execution_count": 800,
   "metadata": {
    "collapsed": true,
    "deletable": true,
    "editable": true
   },
   "outputs": [],
   "source": [
    "\n",
    "#13. -------------------------------------------------------------------------------------------------------------\n",
    "# # Let us read our next set of files and repeat the procedure (AUTOS)\n",
    "#-------------------------------------------------------------------------------------------------------------\n",
    "path_list_Autos =\"E:\\\\Sem 2\\\\20_newsgroups\\\\rec.autos\\\\*\"\n",
    "sorted_freqs_Autos, dummy = getSortedFreq(path_list_Autos)"
   ]
  },
  {
   "cell_type": "code",
   "execution_count": 801,
   "metadata": {
    "collapsed": true,
    "deletable": true,
    "editable": true
   },
   "outputs": [],
   "source": [
    "\n",
    "#14. -------------------------------------------------------------------------------------------------------------\n",
    "# # Let us read our next set of files and repeat the procedure (HOCKEY)\n",
    "#-------------------------------------------------------------------------------------------------------------\n",
    "path_list_Hockey=\"E:\\\\Sem 2\\\\20_newsgroups\\\\rec.sport.hockey\\\\*\"\n",
    "sorted_freqs_hockey, dummy = getSortedFreq(path_list_Hockey)"
   ]
  },
  {
   "cell_type": "code",
   "execution_count": 802,
   "metadata": {
    "collapsed": true,
    "deletable": true,
    "editable": true
   },
   "outputs": [],
   "source": [
    "#15. -------------------------------------------------------------------------------------------------------------\n",
    "# # Let us read our next set of files and repeat the procedure (FORSALE)\n",
    "#-------------------------------------------------------------------------------------------------------------\n",
    "path_list_ForSale =\"E:\\\\Sem 2\\\\20_newsgroups\\\\misc.forsale\\\\*\"\n",
    "sorted_freqs_ForSale, dummy = getSortedFreq(path_list_ForSale)"
   ]
  },
  {
   "cell_type": "code",
   "execution_count": 804,
   "metadata": {
    "collapsed": true,
    "deletable": true,
    "editable": true
   },
   "outputs": [],
   "source": [
    "\n",
    "#16.-------------------------------------------------------------------------------------------------------------\n",
    "# # Let us read our next set of files and repeat the procedure (WINDOWS)\n",
    "#-------------------------------------------------------------------------------------------------------------\n",
    "path_list_Wind =\"E:\\\\Sem 2\\\\20_newsgroups\\\\comp.windows.x\\\\*\"\n",
    "sorted_freqs_Wind, dummy = getSortedFreq(path_list_Wind)"
   ]
  },
  {
   "cell_type": "code",
   "execution_count": 805,
   "metadata": {
    "collapsed": true,
    "deletable": true,
    "editable": true
   },
   "outputs": [],
   "source": [
    "#17. -------------------------------------------------------------------------------------------------------------\n",
    "# # Let us read our next set of files and repeat the procedure (HARDWARE)\n",
    "#-------------------------------------------------------------------------------------------------------------\n",
    "path_list_Hardware =\"E:\\\\Sem 2\\\\20_newsgroups\\\\comp.sys.mac.hardware\\\\*\"\n",
    "sorted_freqs_Hardware, dummy = getSortedFreq(path_list_Hardware)"
   ]
  },
  {
   "cell_type": "code",
   "execution_count": 806,
   "metadata": {
    "collapsed": true,
    "deletable": true,
    "editable": true
   },
   "outputs": [],
   "source": [
    "#18. -------------------------------------------------------------------------------------------------------------\n",
    "# # Let us read our next set of files and repeat the procedure (PC HARDWARE)\n",
    "#-------------------------------------------------------------------------------------------------------------\n",
    "path_list_PCHardware =\"E:\\\\Sem 2\\\\20_newsgroups\\\\comp.sys.ibm.pc.hardware\\\\*\"\n",
    "sorted_freqs_PCHardware, dummy = getSortedFreq(path_list_PCHardware)"
   ]
  },
  {
   "cell_type": "code",
   "execution_count": 807,
   "metadata": {
    "collapsed": true,
    "deletable": true,
    "editable": true
   },
   "outputs": [],
   "source": [
    "#19. -------------------------------------------------------------------------------------------------------------\n",
    "# # Let us read our next set of files and repeat the procedure (MISC WINDOWS)\n",
    "#-------------------------------------------------------------------------------------------------------------\n",
    "path_list_MiscWind =\"E:\\\\Sem 2\\\\20_newsgroups\\\\comp.os.ms-windows.misc\\\\*\"\n",
    "sorted_freqs_MiscWind, dummy = getSortedFreq(path_list_MiscWind)"
   ]
  },
  {
   "cell_type": "code",
   "execution_count": 808,
   "metadata": {
    "collapsed": true,
    "deletable": true,
    "editable": true
   },
   "outputs": [],
   "source": [
    "#20. -------------------------------------------------------------------------------------------------------------\n",
    "# # Let us read our next set of files and repeat the procedure (COMP GRAPHICS)\n",
    "#-------------------------------------------------------------------------------------------------------------\n",
    "path_list_Graphics =\"E:\\\\Sem 2\\\\20_newsgroups\\\\comp.graphics\\\\*\"\n",
    "sorted_freqs_Graphics, dummy = getSortedFreq(path_list_Graphics)"
   ]
  },
  {
   "cell_type": "code",
   "execution_count": 809,
   "metadata": {
    "collapsed": true,
    "deletable": true,
    "editable": true
   },
   "outputs": [],
   "source": [
    "#-------------------------------------------------------------------------------------------------------------\n",
    "# # MERGE and get mega features\n",
    "#-------------------------------------------------------------------------------------------------------------\n",
    "\n",
    "# Now that we have features from different classes, we will merge them by picking 30/50/100 from each\n",
    "mega_feature_list = []\n",
    "topn = 30\n",
    "# picking the top  features\n",
    "athisem_features = {k: v for k, v in sorted_freqs[:topn]} \n",
    "relmisc_features = {k: v for k, v in sorted_freqs_RelMisc[:topn]}\n",
    "relChrist_features = {k: v for k, v in sorted_freqs_RelChrist[:topn]}\n",
    "guns_features = {k: v for k, v in sorted_freqs_guns[:topn]} \n",
    "mideast_features=  {k: v for k, v in sorted_freqs_MidEast[:topn]}\n",
    "polmisc_features = {k: v for k, v in sorted_freqs_PolMisc[:topn]}\n",
    "scispace_features = {k: v for k, v in sorted_freqs_SciSpace[:topn]}\n",
    "scimed_features = {k: v for k, v in sorted_freqs_SciMed[:topn]}\n",
    "scielec_features = {k: v for k, v in sorted_freqs_SciElec[:topn]}\n",
    "scicrypt_features = {k: v for k, v in sorted_freqs_SciCrypt[:topn]}\n",
    "baseball_features = {k: v for k, v in sorted_freqs_Baseball[:topn]}\n",
    "motorcycle_features = {k: v for k, v in sorted_freqs_Motor[:topn]}\n",
    "autos_features = {k: v for k, v in sorted_freqs_Autos[:topn]}\n",
    "hockey_features = {k:v for k,v in sorted_freqs_hockey[:topn]}\n",
    "forsale_features = {k: v for k, v in sorted_freqs_Autos[:topn]}\n",
    "windows_features = {k: v for k, v in sorted_freqs_Wind[:topn]}\n",
    "hardware_features = {k: v for k, v in sorted_freqs_Hardware[:topn]}\n",
    "pchardware_features = {k: v for k, v in sorted_freqs_PCHardware[:topn]}\n",
    "miscwindows_features = {k: v for k, v in sorted_freqs_MiscWind[:topn]}\n",
    "compgraphics_features = {k: v for k, v in sorted_freqs_Graphics[:topn]}\n"
   ]
  },
  {
   "cell_type": "code",
   "execution_count": 811,
   "metadata": {
    "collapsed": true,
    "deletable": true,
    "editable": true
   },
   "outputs": [],
   "source": [
    "#merging the feature lists\n",
    "mega_feature_list.extend((athisem_features,relmisc_features,relChrist_features,\\\n",
    "guns_features,mideast_features, polmisc_features,scispace_features, \\\n",
    "scimed_features, scielec_features, scicrypt_features,\\\n",
    "baseball_features, motorcycle_features, autos_features, hockey_features,\\\n",
    "forsale_features, windows_features, hardware_features,pchardware_features,\\\n",
    "miscwindows_features, compgraphics_features\\\n",
    ")) "
   ]
  },
  {
   "cell_type": "code",
   "execution_count": 812,
   "metadata": {
    "collapsed": false,
    "deletable": true,
    "editable": true
   },
   "outputs": [
    {
     "name": "stdout",
     "output_type": "stream",
     "text": [
      "361\n"
     ]
    }
   ],
   "source": [
    "#creating the dictionary with adding up duplicates\n",
    "mega_features_final= defaultdict(list) \n",
    "for i in range(len(mega_feature_list)):\n",
    "    for k,v in mega_feature_list[i].items():\n",
    "        mega_features_final[k].append(v)\n",
    "\n",
    "mega_features_final = {k: sum_list(v) for k, v in mega_features_final.items()} #summing the counts \n",
    "\n",
    "sorted_mega_features= sorted(mega_features_final.items(),key=operator.itemgetter(1),reverse= True) #sorted\n",
    "\n",
    "print(len(sorted_mega_features))\n",
    "#Futher tuning by poping highest frequency word, which is \" \"\n",
    "sorted_mega_features.pop(0)\n",
    "n_features = len(sorted_mega_features)\n",
    "\n",
    "d_mega_features = dict(sorted_mega_features)\n"
   ]
  },
  {
   "cell_type": "code",
   "execution_count": 814,
   "metadata": {
    "collapsed": false
   },
   "outputs": [
    {
     "data": {
      "text/html": [
       "<div>\n",
       "<table border=\"1\" class=\"dataframe\">\n",
       "  <thead>\n",
       "    <tr style=\"text-align: right;\">\n",
       "      <th></th>\n",
       "      <th>0</th>\n",
       "      <th>1</th>\n",
       "    </tr>\n",
       "  </thead>\n",
       "  <tbody>\n",
       "    <tr>\n",
       "      <th>0</th>\n",
       "      <td>university</td>\n",
       "      <td>49540</td>\n",
       "    </tr>\n",
       "    <tr>\n",
       "      <th>1</th>\n",
       "      <td>dont</td>\n",
       "      <td>44561</td>\n",
       "    </tr>\n",
       "    <tr>\n",
       "      <th>2</th>\n",
       "      <td>people</td>\n",
       "      <td>44125</td>\n",
       "    </tr>\n",
       "    <tr>\n",
       "      <th>3</th>\n",
       "      <td>im</td>\n",
       "      <td>28629</td>\n",
       "    </tr>\n",
       "    <tr>\n",
       "      <th>4</th>\n",
       "      <td>file</td>\n",
       "      <td>24456</td>\n",
       "    </tr>\n",
       "    <tr>\n",
       "      <th>5</th>\n",
       "      <td>time</td>\n",
       "      <td>21878</td>\n",
       "    </tr>\n",
       "    <tr>\n",
       "      <th>6</th>\n",
       "      <td>system</td>\n",
       "      <td>18434</td>\n",
       "    </tr>\n",
       "    <tr>\n",
       "      <th>7</th>\n",
       "      <td>god</td>\n",
       "      <td>16425</td>\n",
       "    </tr>\n",
       "    <tr>\n",
       "      <th>8</th>\n",
       "      <td>government</td>\n",
       "      <td>15302</td>\n",
       "    </tr>\n",
       "    <tr>\n",
       "      <th>9</th>\n",
       "      <td>car</td>\n",
       "      <td>13473</td>\n",
       "    </tr>\n",
       "  </tbody>\n",
       "</table>\n",
       "</div>"
      ],
      "text/plain": [
       "            0      1\n",
       "0  university  49540\n",
       "1        dont  44561\n",
       "2      people  44125\n",
       "3          im  28629\n",
       "4        file  24456\n",
       "5        time  21878\n",
       "6      system  18434\n",
       "7         god  16425\n",
       "8  government  15302\n",
       "9         car  13473"
      ]
     },
     "execution_count": 814,
     "metadata": {},
     "output_type": "execute_result"
    }
   ],
   "source": [
    "#Putting into a DataFrame to export to CSV.\n",
    "final=pd.DataFrame(sorted_mega_features)"
   ]
  },
  {
   "cell_type": "code",
   "execution_count": 815,
   "metadata": {
    "collapsed": true
   },
   "outputs": [],
   "source": [
    "final.to_csv(\"C:\\\\Users\\\\rajag\\\\Documents\\\\Python Scripts\\\\Data Sci Project\\\\t7.csv\")"
   ]
  },
  {
   "cell_type": "markdown",
   "metadata": {},
   "source": [
    "### Now the feature vector is build we can populate the data in Build Data set python file"
   ]
  }
 ],
 "metadata": {
  "anaconda-cloud": {},
  "kernelspec": {
   "display_name": "Python [Root]",
   "language": "python",
   "name": "Python [Root]"
  },
  "language_info": {
   "codemirror_mode": {
    "name": "ipython",
    "version": 3
   },
   "file_extension": ".py",
   "mimetype": "text/x-python",
   "name": "python",
   "nbconvert_exporter": "python",
   "pygments_lexer": "ipython3",
   "version": "3.5.2"
  }
 },
 "nbformat": 4,
 "nbformat_minor": 0
}
